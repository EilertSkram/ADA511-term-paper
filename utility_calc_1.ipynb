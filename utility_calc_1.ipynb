{
 "cells": [
  {
   "cell_type": "code",
   "execution_count": 39,
   "metadata": {},
   "outputs": [
    {
     "name": "stdout",
     "output_type": "stream",
     "text": [
      "{'EUs': 0    0.5\n",
      "1    0.5\n",
      "dtype: float64, 'optimal': 0}\n"
     ]
    }
   ],
   "source": [
    "import numpy as np\n",
    "import pandas as pd\n",
    "import random\n",
    "\n",
    "def decide(probs=None, utils=None):\n",
    "    if probs is None and utils is None:\n",
    "        raise ValueError(\"Either 'probs' or 'utils' must be given\")\n",
    "\n",
    "    if utils is None:\n",
    "        if len(probs.shape) > 1:\n",
    "            raise ValueError(\"'probs' is not a vector, please specify array of utilities\")\n",
    "        utils = np.diag(probs)\n",
    "\n",
    "    elif probs is None:\n",
    "        probs = np.full(utils.shape[1], 1/utils.shape[1])\n",
    "\n",
    "    if len(probs) != utils.shape[1]:\n",
    "        raise ValueError('Mismatch between inference and utility variates')\n",
    "\n",
    "    if not isinstance(utils, pd.DataFrame):\n",
    "        utils = pd.DataFrame(utils)\n",
    "\n",
    "    # Calculate expected utilities (matrix product)\n",
    "    exputils = np.dot(utils, probs)\n",
    "    # If expected utilites are the same for every class, choose random class\n",
    "    # if(len(set(exputils)) == 1):\n",
    "    #     exputils = pd.Series(exputils, index=utils.index).sort_values(ascending=False)\n",
    "    #     return {'EUs': exputils, 'optimal': random.randint(0,len(exputils)-1)}\n",
    "\n",
    "        \n",
    "    exputils = pd.Series(exputils, index=utils.index).sort_values(ascending=False)\n",
    "    #Select one decision with max expected utility\n",
    "    optimal = exputils.idxmax()\n",
    "    return {'EUs': exputils, 'optimal': optimal}\n",
    "\n",
    "    \n",
    "\n",
    "# Example usage\n",
    "probs = np.array([0.5, 0.5])\n",
    "utils = np.array([[1, 0], [-1,2]])\n",
    "result = decide(probs=probs, utils=utils)\n",
    "print(result)\n"
   ]
  },
  {
   "cell_type": "code",
   "execution_count": 40,
   "metadata": {},
   "outputs": [],
   "source": [
    "def utilityMatrixCreator(minUtil, maxUtil):\n",
    "    U_AA = random.randint(minUtil if minUtil > 0 else 0, maxUtil)\n",
    "    U_BA = random.randint(minUtil-1, U_AA-1)\n",
    "\n",
    "    U_BB = random.randint(minUtil if minUtil > 0 else 0, maxUtil)\n",
    "    U_AB = random.randint(minUtil-1, U_BB-1)\n",
    "    return [[U_AA, U_AB], [U_BA, U_BB]]"
   ]
  },
  {
   "cell_type": "code",
   "execution_count": 41,
   "metadata": {},
   "outputs": [
    {
     "data": {
      "text/plain": [
       "array([[ 7,  2],\n",
       "       [-9,  3]])"
      ]
     },
     "execution_count": 41,
     "metadata": {},
     "output_type": "execute_result"
    }
   ],
   "source": [
    "np.array(utilityMatrixCreator(-10, 10))"
   ]
  },
  {
   "cell_type": "code",
   "execution_count": 42,
   "metadata": {},
   "outputs": [],
   "source": [
    "# Probabilities from RNopm infer\n",
    "prob_predict_cat = [0.976039626021315, 0.0239603739786851]\n",
    "prob_predict_dog = [0.00717048738691545, 0.992829512613085]\n"
   ]
  },
  {
   "cell_type": "code",
   "execution_count": 43,
   "metadata": {},
   "outputs": [],
   "source": [
    "CM_df = pd.read_csv('cd_dataframe.csv')"
   ]
  },
  {
   "cell_type": "code",
   "execution_count": 44,
   "metadata": {},
   "outputs": [
    {
     "data": {
      "text/html": [
       "<div>\n",
       "<style scoped>\n",
       "    .dataframe tbody tr th:only-of-type {\n",
       "        vertical-align: middle;\n",
       "    }\n",
       "\n",
       "    .dataframe tbody tr th {\n",
       "        vertical-align: top;\n",
       "    }\n",
       "\n",
       "    .dataframe thead th {\n",
       "        text-align: right;\n",
       "    }\n",
       "</style>\n",
       "<table border=\"1\" class=\"dataframe\">\n",
       "  <thead>\n",
       "    <tr style=\"text-align: right;\">\n",
       "      <th></th>\n",
       "      <th>Unnamed: 0</th>\n",
       "      <th>True Cat</th>\n",
       "      <th>True Dog</th>\n",
       "    </tr>\n",
       "  </thead>\n",
       "  <tbody>\n",
       "    <tr>\n",
       "      <th>0</th>\n",
       "      <td>Predicted Cat</td>\n",
       "      <td>1744</td>\n",
       "      <td>38</td>\n",
       "    </tr>\n",
       "    <tr>\n",
       "      <th>1</th>\n",
       "      <td>Predicted Dog</td>\n",
       "      <td>6</td>\n",
       "      <td>1712</td>\n",
       "    </tr>\n",
       "  </tbody>\n",
       "</table>\n",
       "</div>"
      ],
      "text/plain": [
       "      Unnamed: 0  True Cat  True Dog\n",
       "0  Predicted Cat      1744        38\n",
       "1  Predicted Dog         6      1712"
      ]
     },
     "execution_count": 44,
     "metadata": {},
     "output_type": "execute_result"
    }
   ],
   "source": [
    "CM_df.head()"
   ]
  },
  {
   "cell_type": "code",
   "execution_count": 45,
   "metadata": {},
   "outputs": [],
   "source": [
    "CM = np.array([[1744, 38], [6, 1712]])"
   ]
  },
  {
   "cell_type": "code",
   "execution_count": 46,
   "metadata": {},
   "outputs": [],
   "source": [
    "util = np.array(utilityMatrixCreator(-10, 10))"
   ]
  },
  {
   "cell_type": "code",
   "execution_count": 47,
   "metadata": {},
   "outputs": [],
   "source": [
    "expected_RN = np.multiply(CM, util)\n",
    "expected_RN = expected_RN.sum()"
   ]
  },
  {
   "cell_type": "code",
   "execution_count": 48,
   "metadata": {},
   "outputs": [],
   "source": [
    "test_df = pd.read_csv('test_dataframe.csv')"
   ]
  },
  {
   "cell_type": "code",
   "execution_count": 49,
   "metadata": {},
   "outputs": [],
   "source": [
    "cm_rn = np.array([[0, 0], [0, 0]]) "
   ]
  },
  {
   "cell_type": "code",
   "execution_count": 50,
   "metadata": {},
   "outputs": [],
   "source": [
    "def func_expected_opm(df,util, cm):\n",
    "    expected_opm = 0\n",
    "    number_of_overrides = 0\n",
    "\n",
    "    for index, row in df.iterrows():\n",
    "        predicted = row['Predicted']\n",
    "        actual = row['Actual']\n",
    "\n",
    "        if predicted == 'dog':\n",
    "            optimal = decide(prob_predict_dog, util).get(\"optimal\")\n",
    "            \n",
    "            if optimal == 1:\n",
    "                if 'dog' == actual: #RPopm did not override and resnet predicted dog and it was dog\n",
    "                    expected_opm += util[1][1]\n",
    "                    cm[1][1] += 1\n",
    "                else:   #RPopm did not override and resnet predicted dog and but it was cat\n",
    "                    expected_opm += util[1][0]\n",
    "                    cm[1][0] += 1\n",
    "            else:\n",
    "                number_of_overrides += 1\n",
    "                if 'cat' == actual: #RPopm override and guessed cat and it was cat\n",
    "                    expected_opm += util[0][0] \n",
    "                    cm[0][0] += 1  \n",
    "                else: #RPopm override and guessed cat and but it was dog\n",
    "                    expected_opm += util[0][1]\n",
    "                    cm[0][1] += 1\n",
    "        else:\n",
    "            optimal = decide(prob_predict_cat, util).get(\"optimal\")\n",
    "\n",
    "            if optimal == 0:\n",
    "                if 'cat' == actual: #RPopm did not override and resnet predicted cat and it was cat\n",
    "                    expected_opm += util[0][0]\n",
    "                    cm[0][0] += 1\n",
    "                else:   #RPopm did not override and resnet predicted cat and but it was dog\n",
    "                    expected_opm += util[0][1]\n",
    "                    cm[0][1] += 1\n",
    "            else:\n",
    "                number_of_overrides += 1\n",
    "                if 'dog' == actual: #RPopm override and guessed dog and it was dog\n",
    "                    expected_opm += util[1][1]  \n",
    "                    cm[1][1] += 1\n",
    "                else: #RPopm override and guessed dog and but it was cat\n",
    "                    expected_opm += util[1][0]\n",
    "                    cm[1][0] += 1\n",
    "\n",
    "    return expected_opm, number_of_overrides"
   ]
  },
  {
   "cell_type": "markdown",
   "metadata": {},
   "source": [
    "## Trivial utility-matrix"
   ]
  },
  {
   "cell_type": "code",
   "execution_count": 51,
   "metadata": {},
   "outputs": [
    {
     "data": {
      "text/plain": [
       "array([[5, 2],\n",
       "       [4, 9]])"
      ]
     },
     "execution_count": 51,
     "metadata": {},
     "output_type": "execute_result"
    }
   ],
   "source": [
    "util"
   ]
  },
  {
   "cell_type": "code",
   "execution_count": 71,
   "metadata": {},
   "outputs": [
    {
     "data": {
      "text/plain": [
       "array([[1744,   38],\n",
       "       [   6, 1712]])"
      ]
     },
     "execution_count": 71,
     "metadata": {},
     "output_type": "execute_result"
    }
   ],
   "source": [
    "CM"
   ]
  },
  {
   "cell_type": "code",
   "execution_count": 72,
   "metadata": {},
   "outputs": [
    {
     "data": {
      "text/plain": [
       "array([[1750, 1750],\n",
       "       [   0,    0]])"
      ]
     },
     "execution_count": 72,
     "metadata": {},
     "output_type": "execute_result"
    }
   ],
   "source": [
    "cm_rn"
   ]
  },
  {
   "cell_type": "code",
   "execution_count": 52,
   "metadata": {},
   "outputs": [
    {
     "name": "stdout",
     "output_type": "stream",
     "text": [
      "Expected utilities with resnet alone: 24228\n"
     ]
    },
    {
     "name": "stdout",
     "output_type": "stream",
     "text": [
      "Expected utilities with OPM: 24228, total number over overrides 0\n"
     ]
    }
   ],
   "source": [
    "print(f'Expected utilities with resnet alone: {np.multiply(CM, util).sum()}')\n",
    "expected_opm = func_expected_opm(test_df, util, cm_rn)\n",
    "print(f\"Expected utilities with OPM: {expected_opm[0]}, total number over overrides {expected_opm[1]}\")"
   ]
  },
  {
   "cell_type": "code",
   "execution_count": 53,
   "metadata": {},
   "outputs": [],
   "source": [
    "resnetUtil = []\n",
    "opmUtil = []\n",
    "for i in range(100):\n",
    "    util = np.array(utilityMatrixCreator(-10, 10))\n",
    "    expected_opm = func_expected_opm(test_df, util, cm_rn)\n",
    "    rsnetUtil = np.multiply(CM, util).sum()\n",
    "    resnetUtil.append(rsnetUtil)\n",
    "    opmUtil.append(expected_opm[0])\n"
   ]
  },
  {
   "cell_type": "code",
   "execution_count": 54,
   "metadata": {},
   "outputs": [],
   "source": [
    "import matplotlib.pyplot as plt"
   ]
  },
  {
   "cell_type": "code",
   "execution_count": 55,
   "metadata": {},
   "outputs": [
    {
     "name": "stderr",
     "output_type": "stream",
     "text": [
      "C:\\Users\\47472\\AppData\\Local\\Temp\\ipykernel_15740\\1541215544.py:12: MatplotlibDeprecationWarning: Passing the pad parameter of tight_layout() positionally is deprecated since Matplotlib 3.3; the parameter will become keyword-only two minor releases later.\n",
      "  plt.tight_layout(True)\n"
     ]
    },
    {
     "data": {
      "image/png": "[encoded data removed]",
      "text/plain": [
       "<Figure size 576x576 with 1 Axes>"
      ]
     },
     "metadata": {
      "needs_background": "light"
     },
     "output_type": "display_data"
    }
   ],
   "source": [
    "plt.figure(figsize=(8,8))\n",
    "plt.scatter(resnetUtil, opmUtil)\n",
    "x = [0, 35000]  # Adjust the range based on your needs\n",
    "y = [0, 35000]  # Adjust the range based on your needs\n",
    "\n",
    "# Plot the red dotted diagonal line\n",
    "plt.plot(x, y, 'r--')\n",
    "plt.grid(True)\n",
    "plt.title(\"Expected utility comparison between ResNet and OPM\")\n",
    "plt.xlabel(\"ResNet Expected Utility\")\n",
    "plt.ylabel(\"OPM Expected Utility\")\n",
    "plt.tight_layout(True)\n",
    "# plt.legend([\"Diagonal dotted line\", \"Scatter plot\"])\n",
    "plt.savefig('demo.JPEG', transparent=False)\n",
    "\n"
   ]
  },
  {
   "cell_type": "code",
   "execution_count": 56,
   "metadata": {},
   "outputs": [
    {
     "data": {
      "text/plain": [
       "array([[1744,   38],\n",
       "       [   6, 1712]])"
      ]
     },
     "execution_count": 56,
     "metadata": {},
     "output_type": "execute_result"
    }
   ],
   "source": [
    "CM"
   ]
  },
  {
   "cell_type": "code",
   "execution_count": 57,
   "metadata": {},
   "outputs": [
    {
     "data": {
      "text/plain": [
       "array([[176144,   3838],\n",
       "       [   606, 172912]])"
      ]
     },
     "execution_count": 57,
     "metadata": {},
     "output_type": "execute_result"
    }
   ],
   "source": [
    "cm_rn"
   ]
  },
  {
   "cell_type": "markdown",
   "metadata": {},
   "source": [
    "## Slightly above threshold(p)"
   ]
  },
  {
   "cell_type": "code",
   "execution_count": 58,
   "metadata": {},
   "outputs": [],
   "source": [
    "cm_rn = np.array([[0, 0], [0, 0]]) "
   ]
  },
  {
   "cell_type": "code",
   "execution_count": 59,
   "metadata": {},
   "outputs": [],
   "source": [
    "def p_threshold(U_AA, U_AB, U_BA, p):\n",
    "    p = U_AB + (U_AA - U_BA)*((p)/(1-p))\n",
    "    return [[U_AA, U_AB], [U_BA, p]]"
   ]
  },
  {
   "cell_type": "code",
   "execution_count": 60,
   "metadata": {},
   "outputs": [],
   "source": [
    "u_above = np.array(p_threshold(1.,0., 0, 0.98)) #utility matrix using slightly above threshold(p)"
   ]
  },
  {
   "cell_type": "code",
   "execution_count": 61,
   "metadata": {},
   "outputs": [
    {
     "data": {
      "text/plain": [
       "array([[ 1.,  0.],\n",
       "       [ 0., 49.]])"
      ]
     },
     "execution_count": 61,
     "metadata": {},
     "output_type": "execute_result"
    }
   ],
   "source": [
    "u_above"
   ]
  },
  {
   "cell_type": "code",
   "execution_count": 62,
   "metadata": {},
   "outputs": [
    {
     "name": "stdout",
     "output_type": "stream",
     "text": [
      "Expected utilities with resnet alone: 85631.99999999993\n",
      "Expected utilities with OPM: 85749.99999999999, total number over overrides 1782\n"
     ]
    }
   ],
   "source": [
    "print(f'Expected utilities with resnet alone: {np.multiply(CM, u_above).sum()}')\n",
    "expected_opm = func_expected_opm(test_df, u_above, cm_rn)\n",
    "print(f\"Expected utilities with OPM: {expected_opm[0]}, total number over overrides {expected_opm[1]}\")"
   ]
  },
  {
   "cell_type": "code",
   "execution_count": 63,
   "metadata": {},
   "outputs": [
    {
     "data": {
      "text/plain": [
       "array([[1744,   38],\n",
       "       [   6, 1712]])"
      ]
     },
     "execution_count": 63,
     "metadata": {},
     "output_type": "execute_result"
    }
   ],
   "source": [
    "CM"
   ]
  },
  {
   "cell_type": "code",
   "execution_count": 64,
   "metadata": {},
   "outputs": [
    {
     "data": {
      "text/plain": [
       "array([[   0,    0],\n",
       "       [1750, 1750]])"
      ]
     },
     "execution_count": 64,
     "metadata": {},
     "output_type": "execute_result"
    }
   ],
   "source": [
    "cm_rn #confusion matrix "
   ]
  },
  {
   "cell_type": "markdown",
   "metadata": {},
   "source": [
    "## Slightly below threshold(p)"
   ]
  },
  {
   "cell_type": "code",
   "execution_count": 65,
   "metadata": {},
   "outputs": [],
   "source": [
    "cm_rn = np.array([[0, 0], [0, 0]]) "
   ]
  },
  {
   "cell_type": "code",
   "execution_count": 66,
   "metadata": {},
   "outputs": [],
   "source": [
    "u_below = np.array(p_threshold(1.,-1 , 1, 0.95)) #utility matrix using sligthly below threshold(p)"
   ]
  },
  {
   "cell_type": "code",
   "execution_count": 67,
   "metadata": {},
   "outputs": [
    {
     "data": {
      "text/plain": [
       "array([[ 1., -1.],\n",
       "       [ 1., -1.]])"
      ]
     },
     "execution_count": 67,
     "metadata": {},
     "output_type": "execute_result"
    }
   ],
   "source": [
    "u_below"
   ]
  },
  {
   "cell_type": "code",
   "execution_count": 68,
   "metadata": {},
   "outputs": [
    {
     "name": "stdout",
     "output_type": "stream",
     "text": [
      "Expected utilities with resnet alone: 0.0\n",
      "Expected utilities with OPM: 0.0, total number over overrides 1718\n"
     ]
    }
   ],
   "source": [
    "print(f'Expected utilities with resnet alone: {np.multiply(CM, u_below).sum()}')\n",
    "expected_opm = func_expected_opm(test_df, u_below, cm_rn)\n",
    "print(f\"Expected utilities with OPM: {expected_opm[0]}, total number over overrides {expected_opm[1]}\")"
   ]
  },
  {
   "cell_type": "code",
   "execution_count": 69,
   "metadata": {},
   "outputs": [
    {
     "data": {
      "text/plain": [
       "array([[1744,   38],\n",
       "       [   6, 1712]])"
      ]
     },
     "execution_count": 69,
     "metadata": {},
     "output_type": "execute_result"
    }
   ],
   "source": [
    "CM"
   ]
  },
  {
   "cell_type": "code",
   "execution_count": 70,
   "metadata": {},
   "outputs": [
    {
     "data": {
      "text/plain": [
       "array([[1750, 1750],\n",
       "       [   0,    0]])"
      ]
     },
     "execution_count": 70,
     "metadata": {},
     "output_type": "execute_result"
    }
   ],
   "source": [
    "cm_rn"
   ]
  }
 ],
 "metadata": {
  "kernelspec": {
   "display_name": "Python 3",
   "language": "python",
   "name": "python3"
  },
  "language_info": {
   "codemirror_mode": {
    "name": "ipython",
    "version": 3
   },
   "file_extension": ".py",
   "mimetype": "text/x-python",
   "name": "python",
   "nbconvert_exporter": "python",
   "pygments_lexer": "ipython3",
   "version": "3.9.6"
  }
 },
 "nbformat": 4,
 "nbformat_minor": 2
}
